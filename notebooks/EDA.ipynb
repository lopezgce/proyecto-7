{
 "cells": [
  {
   "cell_type": "code",
   "execution_count": null,
   "metadata": {
    "vscode": {
     "languageId": "plaintext"
    }
   },
   "outputs": [],
   "source": [
    "import pandas as pd\n",
    "import plotly.express as px\n",
    "\n",
    "# Cargar el conjunto de datos\n",
    "df = pd.read_csv('vehicles_us.csv')\n",
    "\n",
    "# Ejemplo 1: Histograma de precios\n",
    "fig_price = px.histogram(df, x='price', title='Distribución de Precios de Vehículos')\n",
    "fig_price.show()\n",
    "\n",
    "# Ejemplo 2: Gráfico de dispersión de millas vs. precio\n",
    "fig_mileage_price = px.scatter(df, x='odometer', y='price', title='Millas vs. Precio')\n",
    "fig_mileage_price.show()\n",
    "\n",
    "# Ejemplo 3: Gráfico de barras de la cantidad de vehículos por marca\n",
    "fig_manufacturer = px.bar(df['manufacturer'].value_counts(), title = \"cantidad de vehiculos por fabricante\")\n",
    "fig_manufacturer.show()\n",
    "\n",
    "# Ejemplo 4: Gráfico de cajas de precios por tipo de vehículo\n",
    "fig_box_price_type = px.box(df, x='type', y='price', title='Precios por Tipo de Vehículo')\n",
    "fig_box_price_type.show()\n",
    "\n",
    "# Ejemplo 5: gráfico circular de la cantidad de vehiculos por estado.\n",
    "fig_pie_state = px.pie(df, names = \"state\", title = \"cantidad de vehiculos por estado.\")\n",
    "fig_pie_state.show()\n",
    "\n",
    "# Ejemplo 6: mapa de dispersión de la ubicación de los vehículos (si tienes datos de latitud y longitud)\n",
    "if 'lat' in df.columns and 'long' in df.columns:\n",
    "    fig_map = px.scatter_geo(df, lat='lat', lon='long', title='Ubicación de Vehículos')\n",
    "    fig_map.show()\n",
    "else:\n",
    "    print(\"Las columnas 'lat' y 'long' no están presentes en el conjunto de datos.\")\n"
   ]
  }
 ],
 "metadata": {
  "language_info": {
   "name": "python"
  }
 },
 "nbformat": 4,
 "nbformat_minor": 2
}
